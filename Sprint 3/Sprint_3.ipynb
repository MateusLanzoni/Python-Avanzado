{
 "cells": [
  {
   "metadata": {},
   "cell_type": "markdown",
   "source": [
    "## Reflexiones sobre funciones en Python\n",
    "\n",
    "**1. ¿Cómo decides cuándo crear una función?**\n",
    "Creo una función cuando detecto que un bloque de código realiza una tarea específica y puede ser reutilizable o para mejorar la organización y legibilidad del código.\n",
    "\n",
    "**2. ¿Cómo afecta el scope de variables al comportamiento de las funciones?**\n",
    "El scope determina si una variable es accesible dentro o fuera de una función. Para minimizar efectos secundarios, evito usar variables globales y prefiero pasar parámetros y devolver valores.\n",
    "\n",
    "**3. Diferencias entre argumentos posicionales, por palabra clave y con valores por defecto**\n",
    "- Posicionales: Se pasan en orden y son obligatorios.\n",
    "- Por palabra clave (keyword): Se pasan nombrando el parámetro, permite alterar orden.\n",
    "- Valores por defecto: Tienen un valor asignado, por lo que no es obligatorio pasarlos."
   ],
   "id": "cb18ca8dfb95a2d1"
  },
  {
   "metadata": {},
   "cell_type": "markdown",
   "source": [
    "# Realicemos un pequeño ejercicio\n",
    " escribe una función llamada greet_multiple que tome una lista de nombres e imprima para cada nombre en la lista un saludo personalizado"
   ],
   "id": "90c4480d3b3a13c9"
  },
  {
   "metadata": {
    "ExecuteTime": {
     "end_time": "2025-05-16T22:26:47.861115Z",
     "start_time": "2025-05-16T22:26:47.854469Z"
    }
   },
   "cell_type": "code",
   "source": [
    "def greet_multiple(names):\n",
    "    \"\"\"\n",
    "    Recibe una lista de nombres y para cada nombre imprime un saludo personalizado.\n",
    "    \"\"\"\n",
    "    for name in names:\n",
    "        print(f\"Hola, {name}!\")\n",
    "\n",
    "# Implementacion\n",
    "nombres = ['Alice', 'Bob', 'Charlie']\n",
    "greet_multiple(nombres)\n"
   ],
   "id": "d4f749b04ed7da73",
   "outputs": [
    {
     "name": "stdout",
     "output_type": "stream",
     "text": [
      "Hola, Alice!\n",
      "Hola, Bob!\n",
      "Hola, Charlie!\n"
     ]
    }
   ],
   "execution_count": 9
  }
 ],
 "metadata": {
  "kernelspec": {
   "display_name": "Python 3",
   "language": "python",
   "name": "python3"
  },
  "language_info": {
   "codemirror_mode": {
    "name": "ipython",
    "version": 2
   },
   "file_extension": ".py",
   "mimetype": "text/x-python",
   "name": "python",
   "nbconvert_exporter": "python",
   "pygments_lexer": "ipython2",
   "version": "2.7.6"
  }
 },
 "nbformat": 4,
 "nbformat_minor": 5
}
